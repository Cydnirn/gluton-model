{
  "cells": [
    {
      "cell_type": "markdown",
      "metadata": {
        "id": "view-in-github",
        "colab_type": "text"
      },
      "source": [
        "<a href=\"https://colab.research.google.com/github/Cydnirn/gluton-model/blob/main/gluton.ipynb\" target=\"_parent\"><img src=\"https://colab.research.google.com/assets/colab-badge.svg\" alt=\"Open In Colab\"/></a>"
      ]
    },
    {
      "source": [
        "# IMPORTANT: RUN THIS CELL IN ORDER TO IMPORT YOUR KAGGLE DATA SOURCES,\n",
        "# THEN FEEL FREE TO DELETE THIS CELL.\n",
        "# NOTE: THIS NOTEBOOK ENVIRONMENT DIFFERS FROM KAGGLE'S PYTHON\n",
        "# ENVIRONMENT SO THERE MAY BE MISSING LIBRARIES USED BY YOUR\n",
        "# NOTEBOOK.\n",
        "import kagglehub\n",
        "canggih_indonesian_food_recipes_path = kagglehub.dataset_download('canggih/indonesian-food-recipes')\n",
        "\n",
        "print('Data source import complete.')\n"
      ],
      "metadata": {
        "id": "gJmpagrf83j-"
      },
      "cell_type": "code",
      "outputs": [],
      "execution_count": null
    },
    {
      "metadata": {
        "id": "N48XJJqj83kA"
      },
      "cell_type": "markdown",
      "source": [
        "<h1 align=\"center\"  style='font-size:30px'><a style=\"color:red;font-weight:700;background-color:black;\">🍲 Indonesian </a><a style=\"color:white;font-weight:700;background-color:black;\">Food </a><a style=\"color:white;font-weight:700;background-color:black;\">Recipe</a> : <a style=\"color:black;\">Data Visualization</a> </h1>\n",
        "\n",
        "This is a visualization for Indonesian Food Recipe dataset kindly provided by <a href=\"https://www.kaggle.com/canggih/indonesian-food-recipes\"> canggih</a>.\n",
        "\n",
        "Indonesian cuisine is a collection of various regional culinary traditions that formed the archipelagic nation of Indonesia. There are a wide variety of recipes and cuisines in part because Indonesia is composed of approximately 6,000 populated islands of the total 17,508 in the world's largest archipelago,with more than 300 ethnic groups calling Indonesia home.Many regional cuisines exist, often based upon indigenous culture with some foreign influences.Indonesia has around 5,350 traditional recipes, with 30 of them considered the most important.Indonesia's cuisine may include rice, noodle and soup dishes in modest local eateries to street-side snacks and top-dollar plates.\n",
        "\n",
        "Indonesian cuisine varies greatly by region and has many different influences.Sumatran cuisine, for example, often has Middle Eastern and Indian influences, featuring curried meat and vegetables such as gulai and curry, while Javanese cuisine is mostly indigenous,with some hint of Chinese influence. The cuisines of Eastern Indonesia are similar to Polynesian and Melanesian cuisine. Elements of Chinese cuisine can be seen in Indonesian cuisine: foods such as noodles, meat balls, and spring rolls have been completely assimilated.\n",
        "\n",
        "<img style=\"width:700px;height:450px\" src=\"https://s3.ap-southeast-2.amazonaws.com/thebalibible.com/uploads/images/venue/632402f7edcea19924e58e0b99316e52.jpg\"/>\n",
        "<h3 align=\"center\" style='font-size:10px'>Image source : thebalibible.com</h3>"
      ]
    },
    {
      "metadata": {
        "id": "V7z2APg783kC"
      },
      "cell_type": "markdown",
      "source": [
        "### Basic Library"
      ]
    },
    {
      "metadata": {
        "_uuid": "8f2839f25d086af736a60e9eeb907d3b93b6e0e5",
        "_cell_guid": "b1076dfc-b9ad-4769-8c92-a6c4dae69d19",
        "trusted": true,
        "id": "XYZGmABm83kD"
      },
      "cell_type": "code",
      "source": [
        "# Data wrangling and math\n",
        "import numpy as np\n",
        "import pandas as pd\n",
        "\n",
        "# Visualization tools\n",
        "import matplotlib.pyplot as plt\n",
        "import seaborn as sns\n",
        "plt.style.use('fivethirtyeight')\n",
        "%matplotlib inline"
      ],
      "execution_count": null,
      "outputs": []
    },
    {
      "metadata": {
        "id": "ciOGnR8W83kE"
      },
      "cell_type": "markdown",
      "source": [
        "### Data Exploration"
      ]
    },
    {
      "metadata": {
        "id": "XJ3zC_ek83kF"
      },
      "cell_type": "markdown",
      "source": [
        "<h3 class=\"list-group-item list-group-item-action active\">Let's take a look at the data</h3>"
      ]
    },
    {
      "metadata": {
        "_uuid": "d629ff2d2480ee46fbb7e2d37f6b5fab8052498a",
        "_cell_guid": "79c7e3d0-c299-4dcb-8224-4455121ee9b0",
        "trusted": true,
        "_kg_hide-input": true,
        "id": "1o5u5Jpk83kF"
      },
      "cell_type": "code",
      "source": [
        "df_ayam = pd.read_csv('../input/indonesian-food-recipes/dataset-ayam.csv')\n",
        "df_ikan = pd.read_csv('../input/indonesian-food-recipes/dataset-ikan.csv')\n",
        "df_kambing = pd.read_csv('../input/indonesian-food-recipes/dataset-kambing.csv')\n",
        "df_sapi = pd.read_csv('../input/indonesian-food-recipes/dataset-sapi.csv')\n",
        "df_tahu = pd.read_csv('../input/indonesian-food-recipes/dataset-tahu.csv')\n",
        "df_telur = pd.read_csv('../input/indonesian-food-recipes/dataset-telur.csv')\n",
        "df_tempe = pd.read_csv('../input/indonesian-food-recipes/dataset-tempe.csv')\n",
        "df_udang = pd.read_csv('../input/indonesian-food-recipes/dataset-udang.csv')\n",
        "\n",
        "df = df_ayam.append([df_ikan,df_kambing,df_sapi,df_tahu,df_telur,df_tempe,df_udang])"
      ],
      "execution_count": null,
      "outputs": []
    },
    {
      "metadata": {
        "_kg_hide-input": true,
        "trusted": true,
        "id": "EXmcMxvk83kG"
      },
      "cell_type": "code",
      "source": [
        "df"
      ],
      "execution_count": null,
      "outputs": []
    },
    {
      "metadata": {
        "trusted": true,
        "id": "198z9jw583kH"
      },
      "cell_type": "code",
      "source": [
        "print(f'There are {df.shape[0]} recipes (rows) and {df.shape[1]} columns.')\n",
        "print(f'Columns: {df.columns.values}')"
      ],
      "execution_count": null,
      "outputs": []
    },
    {
      "metadata": {
        "id": "dCGINUe583kJ"
      },
      "cell_type": "markdown",
      "source": [
        "Let's drop the URL since it can't give us much information"
      ]
    },
    {
      "metadata": {
        "trusted": true,
        "id": "2G01BpcR83kJ"
      },
      "cell_type": "code",
      "source": [
        "df.drop('URL', axis=1, inplace=True)"
      ],
      "execution_count": null,
      "outputs": []
    },
    {
      "metadata": {
        "id": "XjGOP8xr83kK"
      },
      "cell_type": "markdown",
      "source": [
        "<h3 class=\"list-group-item list-group-item-action active\">The most loved food recipe</h3>\n",
        "<h3 class=\"list-group-item list-group-item-action active\"></h3>"
      ]
    },
    {
      "metadata": {
        "trusted": true,
        "id": "jmQlh9XX83kL"
      },
      "cell_type": "code",
      "source": [
        "loved_food = df.sort_values(by='Loves', ascending=False)[:10]\n",
        "figure = plt.figure(figsize=(10,6))\n",
        "sns.barplot(y=loved_food.Title, x=loved_food.Loves)\n",
        "plt.xticks()\n",
        "plt.xlabel('Food recipe')\n",
        "plt.ylabel('Loves count')\n",
        "plt.title('The Most Loved Food Recipe')\n",
        "plt.show()"
      ],
      "execution_count": null,
      "outputs": []
    },
    {
      "metadata": {
        "id": "8q9jugus83kL"
      },
      "cell_type": "markdown",
      "source": [
        "<a style=\"color:blue;font-size:20px\">Work in progress...</a>"
      ]
    }
  ],
  "metadata": {
    "kernelspec": {
      "language": "python",
      "display_name": "Python 3",
      "name": "python3"
    },
    "language_info": {
      "pygments_lexer": "ipython3",
      "nbconvert_exporter": "python",
      "version": "3.6.4",
      "file_extension": ".py",
      "codemirror_mode": {
        "name": "ipython",
        "version": 3
      },
      "name": "python",
      "mimetype": "text/x-python"
    },
    "colab": {
      "name": "🍲 Indonesian Food Recipe : Data Visualization",
      "provenance": [],
      "include_colab_link": true
    }
  },
  "nbformat": 4,
  "nbformat_minor": 0
}